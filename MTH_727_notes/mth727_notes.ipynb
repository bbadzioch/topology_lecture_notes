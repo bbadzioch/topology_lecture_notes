{
 "cells": [
  {
   "cell_type": "code",
   "execution_count": 1,
   "metadata": {},
   "outputs": [],
   "source": [
    "import re\n",
    "import pypdf as pdf\n",
    "\n",
    "\n",
    "    \n",
    "#Splitting pdf files with lecture notes into chapters.\n",
    "#For this code to work the tex file need to include table\n",
    "#of content, so that a .toc file is present. The code uses \n",
    "#this file to retrieve page numbers of chapters. \n",
    "\n",
    "\n",
    "\n",
    "def extract_pages(inputpdf, fpage, lpage):\n",
    "    '''\n",
    "    inputpdf: a PyPDF2 PdfReader object\n",
    "    fpage: page number of the first page to be extracted\n",
    "    lpage: page number of the last page to be extracted\n",
    "    Returns:\n",
    "    output: PyPDF2 PdfFWriter object containing extracted pages\n",
    "    '''\n",
    "    output = pdf.PdfWriter()\n",
    "    for i in range(fpage-1,lpage-1):\n",
    "        output.add_page(inputpdf.pages[i])\n",
    "    return output\n",
    "\n",
    "def chapter_page_nums(tocfile):\n",
    "    '''\n",
    "    Uses a LaTeX .toc file to retrieve page numbers of chapters\n",
    "    Returns:\n",
    "    page_nums: a list of chapter page numbers\n",
    "    '''\n",
    "    page_nums = []\n",
    "    with open(tocfile, 'r') as foo:\n",
    "        toc_lines = foo.readlines()\n",
    "    for line in toc_lines:\n",
    "        page_nums.append(int(re.findall(r'\\{(\\d+)\\}', line)[1]))\n",
    "    return page_nums\n",
    "\n",
    "\n",
    "def split_chapters(inputpdf, outfile_name, chapter_page_nums):\n",
    "    '''\n",
    "    Produces pdf files with individual chapters\n",
    "    inputpdf: a PyPDF2 PfgFileReader object\n",
    "    outfile_name: template of names of pdf files that are to be produced; \n",
    "                  the pdf file of chapter n will be named outfile_name_n.pdf\n",
    "    chapter_page_nums: a list of page numbers of chapters\n",
    "    Returns: None\n",
    "    \n",
    "    '''\n",
    "    chapter_page_nums = chapter_page_nums[:]\n",
    "    print(chapter_page_nums)\n",
    "    for i in range(len(chapter_page_nums)-1):\n",
    "        outpdf = extract_pages(inputpdf, chapter_page_nums[i], chapter_page_nums[i+1])\n",
    "        with open(outfile_name + \"_\" + str(i+1) + \".pdf\" , \"wb\") as outputStream:\n",
    "            outpdf.write(outputStream)  \n",
    "            \n",
    "def notes_splitter(texfile, outfile_name, shift=0):\n",
    "    '''\n",
    "    texfile: source LaTeX file\n",
    "    outfile_name: template of names of pdf files that are to be produced; \n",
    "                  the pdf file of chapter n will be named outfile_name_n.pdf\n",
    "    chapter_page_nums: a list of page numbers of chapters\n",
    "    Returns: None\n",
    "    \n",
    "    '''\n",
    "    texfile_root = texfile.split('.')[0]\n",
    "    tocfile = texfile_root + '.toc'\n",
    "    pdffile = texfile_root + '.pdf'\n",
    "    inpdf = pdf.PdfReader(open(pdffile, 'rb'))\n",
    "    ch_page_list = chapter_page_nums(tocfile)\n",
    "    ch_page_list = [x + shift for x in ch_page_list]\n",
    "    ch_page_list.append(len(inpdf.pages) + 1)\n",
    "    split_chapters(inpdf, outfile_name, ch_page_list)"
   ]
  },
  {
   "cell_type": "code",
   "execution_count": 2,
   "metadata": {},
   "outputs": [
    {
     "name": "stdout",
     "output_type": "stream",
     "text": [
      "[3, 5, 8, 13, 20, 26, 30, 38, 45, 50, 55, 60, 66, 70, 75, 79, 82, 88, 93, 97, 99, 103, 111, 112]\n"
     ]
    }
   ],
   "source": [
    "import shutil\n",
    "\n",
    "def split(infile, outpath, outfile_name, shift=0):\n",
    "    #if os.path.exists(outpath):\n",
    "    #    shutil.rmtree(outpath, ignore_errors=False, onerror=None)    \n",
    "    #os.makedirs(outpath)\n",
    "    notes_splitter(infile, outpath + outfile_name, shift=shift)\n",
    "        \n",
    "notes_file = \"/Users/bb/Library/CloudStorage/Box-Box/Lecture_Notes/MTH_727_notes/mth727_lecture_notes.tex\"\n",
    "outpath_notes = \"/Users/bb/Library/CloudStorage/Box-Box/Courses/U_Buffalo/2024-09-mth727/notes/\"\n",
    "\n",
    "\n",
    "out_notes = 'mth727_notes'\n",
    "\n",
    "notes = [notes_file, outpath_notes, out_notes, 2]\n",
    "\n",
    "\n",
    "split(*notes)"
   ]
  },
  {
   "cell_type": "code",
   "execution_count": null,
   "metadata": {},
   "outputs": [],
   "source": []
  }
 ],
 "metadata": {
  "kernelspec": {
   "display_name": "base",
   "language": "python",
   "name": "python3"
  },
  "language_info": {
   "codemirror_mode": {
    "name": "ipython",
    "version": 3
   },
   "file_extension": ".py",
   "mimetype": "text/x-python",
   "name": "python",
   "nbconvert_exporter": "python",
   "pygments_lexer": "ipython3",
   "version": "3.11.6"
  }
 },
 "nbformat": 4,
 "nbformat_minor": 2
}
